{
 "cells": [
  {
   "cell_type": "code",
   "execution_count": 1,
   "id": "9e400973",
   "metadata": {},
   "outputs": [],
   "source": [
    "import numpy as np \n",
    "import pandas as pd \n",
    "import matplotlib.pyplot as plt \n",
    "import os \n",
    "import glob \n",
    "import utils"
   ]
  },
  {
   "cell_type": "code",
   "execution_count": 2,
   "id": "184c7b31",
   "metadata": {},
   "outputs": [
    {
     "name": "stdout",
     "output_type": "stream",
     "text": [
      "   patient_id                                      npy_path     gs  \\\n",
      "0       16092  /cache/kevin/ds_dwi1500_npy/000000016092.npy   GS_6   \n",
      "1       27877  /cache/kevin/ds_dwi1500_npy/000000027877.npy  GS_7b   \n",
      "2       27766  /cache/kevin/ds_dwi1500_npy/000000027766.npy   GS_0   \n",
      "3       22792  /cache/kevin/ds_dwi1500_npy/000000022792.npy  GS_7a   \n",
      "4       10789  /cache/kevin/ds_dwi1500_npy/000000010789.npy   GS_9   \n",
      "\n",
      "                class  biopsy  labels_bi        granularity  labels_4class  \\\n",
      "0              cancer   False          0               GGG1              0   \n",
      "1  cancer+prostatitis    True          1  prostatitis+GGG>1              1   \n",
      "2         prostatitis   False          0        prostatitis              2   \n",
      "3  cancer+prostatitis    True          1  prostatitis+GGG>1              1   \n",
      "4              cancer    True          1              GGG>1              1   \n",
      "\n",
      "   fold_bi  fold_4class  \n",
      "0       -1            3  \n",
      "1        1            3  \n",
      "2        1           -1  \n",
      "3        0           -1  \n",
      "4       -1            2  \n"
     ]
    }
   ],
   "source": [
    "csv_ = '/data/kevin/csv/csv_npy/ds_dwi1500_npy.csv'\n",
    "tabular_data = pd.read_csv(csv_)\n",
    "print(tabular_data.head())"
   ]
  },
  {
   "cell_type": "code",
   "execution_count": 3,
   "id": "940b6905",
   "metadata": {
    "scrolled": false
   },
   "outputs": [
    {
     "name": "stdout",
     "output_type": "stream",
     "text": [
      "Index(['patient_id', 'npy_path', 'gs', 'class', 'biopsy', 'labels_bi',\n",
      "       'granularity', 'labels_4class', 'fold_bi', 'fold_4class'],\n",
      "      dtype='object')\n"
     ]
    }
   ],
   "source": [
    "print(tabular_data.columns)"
   ]
  },
  {
   "cell_type": "markdown",
   "id": "ed14e7c0",
   "metadata": {},
   "source": [
    "## Reformat Data Frame"
   ]
  },
  {
   "cell_type": "markdown",
   "id": "2fc7d1fa",
   "metadata": {},
   "source": [
    "- Drop column: 'granularity' / 'labels_4class' / 'fold_bi' / 'fold_4class' \n",
    "- Rename 'labels_bi'=>'maglinant'"
   ]
  },
  {
   "cell_type": "code",
   "execution_count": 4,
   "id": "066a93d3",
   "metadata": {},
   "outputs": [
    {
     "name": "stdout",
     "output_type": "stream",
     "text": [
      "   patient_id                                      npy_path     gs  \\\n",
      "0       16092  /cache/kevin/ds_dwi1500_npy/000000016092.npy   GS_6   \n",
      "1       27877  /cache/kevin/ds_dwi1500_npy/000000027877.npy  GS_7b   \n",
      "2       27766  /cache/kevin/ds_dwi1500_npy/000000027766.npy   GS_0   \n",
      "3       22792  /cache/kevin/ds_dwi1500_npy/000000022792.npy  GS_7a   \n",
      "4       10789  /cache/kevin/ds_dwi1500_npy/000000010789.npy   GS_9   \n",
      "\n",
      "                class  biopsy  maglinant  \n",
      "0              cancer   False          0  \n",
      "1  cancer+prostatitis    True          1  \n",
      "2         prostatitis   False          0  \n",
      "3  cancer+prostatitis    True          1  \n",
      "4              cancer    True          1  \n"
     ]
    }
   ],
   "source": [
    "tabular_data.drop(columns=['granularity', 'labels_4class', 'fold_bi', 'fold_4class'], axis=1, inplace=True)\n",
    "tabular_data.rename(columns={\"labels_bi\": \"maglinant\"}, inplace=True)\n",
    "print(tabular_data.head())"
   ]
  },
  {
   "cell_type": "markdown",
   "id": "4cfb9b72",
   "metadata": {},
   "source": [
    "# Prostatitis Labels"
   ]
  },
  {
   "cell_type": "markdown",
   "id": "6bc9973c",
   "metadata": {},
   "source": [
    "For class with \"cancer+prostatitis\" or \"prostatitis\" => 1, else =>0"
   ]
  },
  {
   "cell_type": "code",
   "execution_count": 5,
   "id": "59c89732",
   "metadata": {},
   "outputs": [
    {
     "name": "stdout",
     "output_type": "stream",
     "text": [
      "['cancer' 'cancer+prostatitis' 'prostatitis' 'tumour-free']\n"
     ]
    }
   ],
   "source": [
    "print(np.unique(tabular_data['class']))"
   ]
  },
  {
   "cell_type": "code",
   "execution_count": 6,
   "id": "a6a83c78",
   "metadata": {},
   "outputs": [
    {
     "name": "stdout",
     "output_type": "stream",
     "text": [
      "Total number:  [1292  581]\n"
     ]
    },
    {
     "data": {
      "image/png": "[encoded data removed]",
      "text/plain": [
       "<Figure size 432x288 with 1 Axes>"
      ]
     },
     "metadata": {
      "needs_background": "light"
     },
     "output_type": "display_data"
    }
   ],
   "source": [
    "class_ = np.array(tabular_data['class'])\n",
    "prostatitis = np.where((class_==\"cancer+prostatitis\")|(class_=='prostatitis'),1, 0)\n",
    "\n",
    "val, count = np.unique(prostatitis, return_counts=True)\n",
    "print(\"Total number: \",count)\n",
    "plt.bar(val, count)\n",
    "plt.xticks(val)\n",
    "plt.show()"
   ]
  },
  {
   "cell_type": "markdown",
   "id": "007f8c15",
   "metadata": {},
   "source": [
    "# Gleason Score"
   ]
  },
  {
   "cell_type": "markdown",
   "id": "dd3f3728",
   "metadata": {},
   "source": [
    "'gs_0' => 0, 'gs_6'=> 1, 'gs_7a'=>2, 'gs_7b'=>3, 'gs_8'=>4, 'gs_9'+'gs_10'=>5"
   ]
  },
  {
   "cell_type": "code",
   "execution_count": 7,
   "id": "1741ebf9",
   "metadata": {},
   "outputs": [
    {
     "name": "stdout",
     "output_type": "stream",
     "text": [
      "['GS_0' 'GS_10' 'GS_6' 'GS_7a' 'GS_7b' 'GS_8' 'GS_9']\n"
     ]
    }
   ],
   "source": [
    "gs = tabular_data['gs']\n",
    "print(np.unique(gs))"
   ]
  },
  {
   "cell_type": "code",
   "execution_count": 8,
   "id": "73f70715",
   "metadata": {},
   "outputs": [
    {
     "name": "stdout",
     "output_type": "stream",
     "text": [
      "Total number:  [765 314 357 181  89 167]\n"
     ]
    },
    {
     "data": {
      "image/png": "[encoded data removed]",
      "text/plain": [
       "<Figure size 432x288 with 1 Axes>"
      ]
     },
     "metadata": {
      "needs_background": "light"
     },
     "output_type": "display_data"
    }
   ],
   "source": [
    "# convert to ggg \n",
    "ggg = []\n",
    "for k in gs:\n",
    "    if k=='GS_0':\n",
    "        ggg.append(0)\n",
    "    if k=='GS_6':\n",
    "        ggg.append(1)\n",
    "    if k=='GS_7a':\n",
    "        ggg.append(2)\n",
    "    if k=='GS_7b':\n",
    "        ggg.append(3)\n",
    "    if k=='GS_8':\n",
    "        ggg.append(4)\n",
    "    if k=='GS_9' or k=='GS_10':\n",
    "        ggg.append(5)\n",
    "\n",
    "val, count = np.unique(ggg, return_counts=True)\n",
    "print(\"Total number: \",count)\n",
    "plt.bar(val, count)\n",
    "plt.xticks(val)\n",
    "plt.show()"
   ]
  },
  {
   "cell_type": "markdown",
   "id": "cb3dec36",
   "metadata": {},
   "source": [
    "# Risk Group "
   ]
  },
  {
   "cell_type": "markdown",
   "id": "37b4b90f",
   "metadata": {},
   "source": [
    "'no'=> 0, 'low' => 1, 'mid'=> 2, 'high' => 3"
   ]
  },
  {
   "cell_type": "code",
   "execution_count": 9,
   "id": "bb57ed47",
   "metadata": {},
   "outputs": [
    {
     "name": "stdout",
     "output_type": "stream",
     "text": [
      "Total number:  [765 314 538 256]\n"
     ]
    },
    {
     "data": {
      "image/png": "[encoded data removed]",
      "text/plain": [
       "<Figure size 432x288 with 1 Axes>"
      ]
     },
     "metadata": {
      "needs_background": "light"
     },
     "output_type": "display_data"
    }
   ],
   "source": [
    "risk = []\n",
    "for k in gs:\n",
    "    if k=='GS_0':\n",
    "        risk.append(0)\n",
    "    if k=='GS_6':\n",
    "        risk.append(1)\n",
    "    if k=='GS_7a' or k=='GS_7b':\n",
    "        risk.append(2)\n",
    "    if k=='GS_8'or k=='GS_9' or k=='GS_10':\n",
    "        risk.append(3)\n",
    "        \n",
    "val, count = np.unique(risk, return_counts=True)\n",
    "print(\"Total number: \",count)\n",
    "plt.bar(val, count)\n",
    "plt.xticks(val)\n",
    "plt.show()"
   ]
  },
  {
   "cell_type": "markdown",
   "id": "1ed3b79c",
   "metadata": {},
   "source": [
    "# Clinial Significance GGG"
   ]
  },
  {
   "cell_type": "markdown",
   "id": "6591813e",
   "metadata": {},
   "source": [
    "'GS_0'=> 0, 'GS_6'/'GGG1' =>1, 'GS_7a,7b,8,9,10'/'GGG>1'=>2 "
   ]
  },
  {
   "cell_type": "code",
   "execution_count": 10,
   "id": "5dbafc7d",
   "metadata": {},
   "outputs": [
    {
     "name": "stdout",
     "output_type": "stream",
     "text": [
      "Total number:  [765 314 794]\n"
     ]
    },
    {
     "data": {
      "image/png": "[encoded data removed]",
      "text/plain": [
       "<Figure size 432x288 with 1 Axes>"
      ]
     },
     "metadata": {
      "needs_background": "light"
     },
     "output_type": "display_data"
    },
    {
     "name": "stdout",
     "output_type": "stream",
     "text": [
      "1873\n"
     ]
    }
   ],
   "source": [
    "ggg_s = []\n",
    "for k in gs:\n",
    "    if k=='GS_0':\n",
    "        ggg_s.append(0)\n",
    "    if k=='GS_6':\n",
    "        ggg_s.append(1)\n",
    "    if k=='GS_7a' or k=='GS_7b' or k=='GS_8'or k=='GS_9' or k=='GS_10':\n",
    "        ggg_s.append(2)\n",
    "        \n",
    "val, count = np.unique(ggg_s, return_counts=True)\n",
    "print(\"Total number: \",count)\n",
    "plt.bar(val, count)\n",
    "plt.xticks(val)\n",
    "plt.show()\n",
    "print(np.sum(count))"
   ]
  },
  {
   "cell_type": "markdown",
   "id": "7b43d4b5",
   "metadata": {},
   "source": [
    "# Tumour/No-tumour"
   ]
  },
  {
   "cell_type": "code",
   "execution_count": 11,
   "id": "31b5bcc6",
   "metadata": {},
   "outputs": [
    {
     "name": "stdout",
     "output_type": "stream",
     "text": [
      "Total number:  [ 765 1108]\n"
     ]
    },
    {
     "data": {
      "image/png": "[encoded data removed]",
      "text/plain": [
       "<Figure size 432x288 with 1 Axes>"
      ]
     },
     "metadata": {
      "needs_background": "light"
     },
     "output_type": "display_data"
    },
    {
     "name": "stdout",
     "output_type": "stream",
     "text": [
      "1873\n"
     ]
    }
   ],
   "source": [
    "tumour = []\n",
    "for k in gs:\n",
    "    if k=='GS_0':\n",
    "        tumour.append(0)\n",
    "    if k=='GS_6' or k=='GS_7a' or k=='GS_7b' or k=='GS_8'or k=='GS_9' or k=='GS_10':\n",
    "        tumour.append(1)\n",
    "        \n",
    "val, count = np.unique(tumour, return_counts=True)\n",
    "print(\"Total number: \",count)\n",
    "plt.bar(val, count)\n",
    "plt.xticks(val)\n",
    "plt.show()\n",
    "print(np.sum(count))"
   ]
  },
  {
   "cell_type": "markdown",
   "id": "6f326dbb",
   "metadata": {},
   "source": [
    "# Labels Combination"
   ]
  },
  {
   "cell_type": "markdown",
   "id": "65c102e1",
   "metadata": {},
   "source": [
    "## 12 class"
   ]
  },
  {
   "cell_type": "markdown",
   "id": "e9b5e72f",
   "metadata": {},
   "source": [
    "|  | Prostatitis | Maglinant | GGG | Label|\n",
    "| --- | --- | --- |---|---|\n",
    "| Healthy | 0 | 0 | 0 | 0|\n",
    "| Prostate | 1 | 0 | 0 | 1|\n",
    "|Prostate + GGG1|1|0|1|2|\n",
    "|Prostate + GGG2|1|1|2|3|\n",
    "|Prostate + GGG3|1|1|3|4|\n",
    "|Prostate + GGG4|1|1|4|5|\n",
    "|Prostate + GGG5|1|1|5|6|\n",
    "|GGG1|0|0|1|7|\n",
    "|GGG2|0|1|2|8|\n",
    "|GGG3|0|1|3|9|\n",
    "|GGG4|0|1|4|10|\n",
    "|GGG5|0|1|5|11|\n"
   ]
  },
  {
   "cell_type": "markdown",
   "id": "1ce302b6",
   "metadata": {},
   "source": [
    "## 8 class"
   ]
  },
  {
   "cell_type": "markdown",
   "id": "9b346aa8",
   "metadata": {},
   "source": [
    "| | Prostatitis | Maglinant | Risk | Label|\n",
    "| --- | --- | --- |---|---|\n",
    "| Healthy | 0 | 0 | 0 | 0|\n",
    "| Prostate | 1 | 0 | 0 | 1|\n",
    "|Prostate + GGG1|1|0|1|2|\n",
    "|Prostate + GGG2|1|1|2|3|\n",
    "|Prostate + GGG3|1|1|2|3|\n",
    "|Prostate + GGG4|1|1|3|4|\n",
    "|Prostate + GGG5|1|1|3|4|\n",
    "|GGG1|0|0|1|5|\n",
    "|GGG2|0|1|2|6|\n",
    "|GGG3|0|1|2|6|\n",
    "|GGG4|0|1|3|7|\n",
    "|GGG5|0|1|3|7|\n"
   ]
  },
  {
   "cell_type": "markdown",
   "id": "58e2e33f",
   "metadata": {},
   "source": [
    "## 6 class(ggg)"
   ]
  },
  {
   "cell_type": "markdown",
   "id": "d1683920",
   "metadata": {},
   "source": [
    "|  | Prostatitis | Maglinant | GGG | Label|\n",
    "| --- | --- | --- |---|---|\n",
    "| Healthy | 0 | 0 | 0 | 0|\n",
    "| Prostate | 1 | 0 | 0 | 1|\n",
    "|Prostate + GGG1|1|0|1|2|\n",
    "|Prostate + GGG>1|1|1|2|3|\n",
    "|GGG1|0|0|1|4|\n",
    "|GGG>1|0|1|2|5|\n"
   ]
  },
  {
   "cell_type": "markdown",
   "id": "58fbd201",
   "metadata": {},
   "source": [
    "### 6 Class(tumour)"
   ]
  },
  {
   "cell_type": "markdown",
   "id": "379464d4",
   "metadata": {},
   "source": [
    "|  | Prostatitis | Maglinant | Tumour | Label|\n",
    "| --- | --- | --- |---|---|\n",
    "| Healthy | 0 | 0 | 0 | 0|\n",
    "| Prostate | 1 | 0 | 0 | 1|\n",
    "|Prostate + GGG1|1|0|1|2|\n",
    "|Prostate + GGG>1|1|1|1|3|\n",
    "|GGG1|0|0|1|4|\n",
    "|GGG>1|0|1|1|5|\n"
   ]
  },
  {
   "cell_type": "code",
   "execution_count": 13,
   "id": "5dd28655",
   "metadata": {},
   "outputs": [
    {
     "name": "stdout",
     "output_type": "stream",
     "text": [
      "   patient_id                                      npy_path     gs  \\\n",
      "0       16092  /cache/kevin/ds_dwi1500_npy/000000016092.npy   GS_6   \n",
      "1       27877  /cache/kevin/ds_dwi1500_npy/000000027877.npy  GS_7b   \n",
      "2       27766  /cache/kevin/ds_dwi1500_npy/000000027766.npy   GS_0   \n",
      "3       22792  /cache/kevin/ds_dwi1500_npy/000000022792.npy  GS_7a   \n",
      "4       10789  /cache/kevin/ds_dwi1500_npy/000000010789.npy   GS_9   \n",
      "\n",
      "                class  biopsy  maglinant  prostatitis  ggg  risk  ggg_s  \\\n",
      "0              cancer   False          0            0    1     1      1   \n",
      "1  cancer+prostatitis    True          1            1    3     2      2   \n",
      "2         prostatitis   False          0            1    0     0      0   \n",
      "3  cancer+prostatitis    True          1            1    2     2      2   \n",
      "4              cancer    True          1            0    5     3      2   \n",
      "\n",
      "   tumour  \n",
      "0       1  \n",
      "1       1  \n",
      "2       0  \n",
      "3       1  \n",
      "4       1  \n"
     ]
    }
   ],
   "source": [
    "tabular_data[\"prostatitis\"]=prostatitis\n",
    "tabular_data[\"ggg\"]=ggg\n",
    "tabular_data[\"risk\"]=risk\n",
    "tabular_data[\"ggg_s\"]=ggg_s\n",
    "tabular_data[\"tumour\"]= tumour\n",
    "print(tabular_data.head())"
   ]
  },
  {
   "cell_type": "markdown",
   "id": "253b0faf",
   "metadata": {},
   "source": [
    "# 12 Class"
   ]
  },
  {
   "cell_type": "code",
   "execution_count": 14,
   "id": "bd5de838",
   "metadata": {},
   "outputs": [
    {
     "name": "stdout",
     "output_type": "stream",
     "text": [
      "Total number:  [410 355  84  79  36  12  15 230 278 145  77 152]\n"
     ]
    },
    {
     "data": {
      "image/png": "[encoded data removed]",
      "text/plain": [
       "<Figure size 432x288 with 1 Axes>"
      ]
     },
     "metadata": {
      "needs_background": "light"
     },
     "output_type": "display_data"
    },
    {
     "name": "stdout",
     "output_type": "stream",
     "text": [
      "1873\n"
     ]
    }
   ],
   "source": [
    "labels_12 = []\n",
    "for i in range(len(tabular_data[\"prostatitis\"])):\n",
    "    # healthy => 0\n",
    "    if tabular_data[\"prostatitis\"][i]==0 and tabular_data[\"maglinant\"][i]==0 and tabular_data[\"ggg\"][i]==0:\n",
    "        labels_12.append(0)\n",
    "    # prostatitis => 1\n",
    "    if tabular_data[\"prostatitis\"][i]==1 and tabular_data[\"maglinant\"][i]==0 and tabular_data[\"ggg\"][i]==0:\n",
    "        labels_12.append(1)\n",
    "    # prostatitis+ggg1 => 2\n",
    "    if tabular_data[\"prostatitis\"][i]==1 and tabular_data[\"maglinant\"][i]==0 and tabular_data[\"ggg\"][i]==1:\n",
    "        labels_12.append(2)\n",
    "    # prostatitis+ggg2 => 3\n",
    "    if tabular_data[\"prostatitis\"][i]==1 and tabular_data[\"maglinant\"][i]==1 and tabular_data[\"ggg\"][i]==2:\n",
    "        labels_12.append(3)\n",
    "    # prostatitis+ggg3 => 4\n",
    "    if tabular_data[\"prostatitis\"][i]==1 and tabular_data[\"maglinant\"][i]==1 and tabular_data[\"ggg\"][i]==3:\n",
    "        labels_12.append(4)\n",
    "    # prostatitis+ggg4 => 5\n",
    "    if tabular_data[\"prostatitis\"][i]==1 and tabular_data[\"maglinant\"][i]==1 and tabular_data[\"ggg\"][i]==4:\n",
    "        labels_12.append(5)\n",
    "    # prostatitis+ggg5 => 6\n",
    "    if tabular_data[\"prostatitis\"][i]==1 and tabular_data[\"maglinant\"][i]==1 and tabular_data[\"ggg\"][i]==5:\n",
    "        labels_12.append(6)\n",
    "    # ggg1 => 7\n",
    "    if tabular_data[\"prostatitis\"][i]==0 and tabular_data[\"maglinant\"][i]==0 and tabular_data[\"ggg\"][i]==1:\n",
    "        labels_12.append(7)\n",
    "    # ggg2 => 8\n",
    "    if tabular_data[\"prostatitis\"][i]==0 and tabular_data[\"maglinant\"][i]==1 and tabular_data[\"ggg\"][i]==2:\n",
    "        labels_12.append(8)\n",
    "    # ggg3 => 9\n",
    "    if tabular_data[\"prostatitis\"][i]==0 and tabular_data[\"maglinant\"][i]==1 and tabular_data[\"ggg\"][i]==3:\n",
    "        labels_12.append(9)\n",
    "    # ggg4 => 10\n",
    "    if tabular_data[\"prostatitis\"][i]==0 and tabular_data[\"maglinant\"][i]==1 and tabular_data[\"ggg\"][i]==4:\n",
    "        labels_12.append(10)\n",
    "    # ggg5 => 11\n",
    "    if tabular_data[\"prostatitis\"][i]==0 and tabular_data[\"maglinant\"][i]==1 and tabular_data[\"ggg\"][i]==5:\n",
    "        labels_12.append(11)\n",
    "\n",
    "val, count = np.unique(labels_12, return_counts=True)\n",
    "print(\"Total number: \",count)\n",
    "plt.bar(val, count)\n",
    "plt.xticks(val)\n",
    "plt.show()      \n",
    "print(np.sum(count))"
   ]
  },
  {
   "cell_type": "markdown",
   "id": "f3b30667",
   "metadata": {},
   "source": [
    "# 8 Class"
   ]
  },
  {
   "cell_type": "code",
   "execution_count": 15,
   "id": "ff476fe8",
   "metadata": {
    "scrolled": true
   },
   "outputs": [
    {
     "name": "stdout",
     "output_type": "stream",
     "text": [
      "Total number:  [410 355  84 115  27 230 423 229]\n"
     ]
    },
    {
     "data": {
      "image/png": "[encoded data removed]",
      "text/plain": [
       "<Figure size 432x288 with 1 Axes>"
      ]
     },
     "metadata": {
      "needs_background": "light"
     },
     "output_type": "display_data"
    },
    {
     "name": "stdout",
     "output_type": "stream",
     "text": [
      "1873\n"
     ]
    }
   ],
   "source": [
    "labels_8 = []\n",
    "for i in range(len(tabular_data[\"prostatitis\"])):\n",
    "    # healthy => 0\n",
    "    if tabular_data[\"prostatitis\"][i]==0 and tabular_data[\"maglinant\"][i]==0 and tabular_data[\"risk\"][i]==0:\n",
    "        labels_8.append(0)\n",
    "    # prostatitis => 1\n",
    "    if tabular_data[\"prostatitis\"][i]==1 and tabular_data[\"maglinant\"][i]==0 and tabular_data[\"risk\"][i]==0:\n",
    "        labels_8.append(1)\n",
    "    # prostatitis+ggg1 => 2\n",
    "    if tabular_data[\"prostatitis\"][i]==1 and tabular_data[\"maglinant\"][i]==0 and tabular_data[\"risk\"][i]==1:\n",
    "        labels_8.append(2)\n",
    "    # prostatitis+ggg2/ggg3 => 3\n",
    "    if tabular_data[\"prostatitis\"][i]==1 and tabular_data[\"maglinant\"][i]==1 and tabular_data[\"risk\"][i]==2:\n",
    "        labels_8.append(3)\n",
    "    # prostatitis+ggg4/ggg5 => 4\n",
    "    if tabular_data[\"prostatitis\"][i]==1 and tabular_data[\"maglinant\"][i]==1 and tabular_data[\"risk\"][i]==3:\n",
    "        labels_8.append(4)\n",
    "    # ggg1 => 5\n",
    "    if tabular_data[\"prostatitis\"][i]==0 and tabular_data[\"maglinant\"][i]==0 and tabular_data[\"risk\"][i]==1:\n",
    "        labels_8.append(5)\n",
    "    # ggg2/ggg3 => 6\n",
    "    if tabular_data[\"prostatitis\"][i]==0 and tabular_data[\"maglinant\"][i]==1 and tabular_data[\"risk\"][i]==2:\n",
    "        labels_8.append(6)\n",
    "    # ggg4/ggg5 => 7\n",
    "    if tabular_data[\"prostatitis\"][i]==0 and tabular_data[\"maglinant\"][i]==1 and tabular_data[\"risk\"][i]==3:\n",
    "        labels_8.append(7)\n",
    "\n",
    "val, count = np.unique(labels_8, return_counts=True)\n",
    "print(\"Total number: \",count)\n",
    "plt.bar(val, count)\n",
    "plt.xticks(val)\n",
    "plt.show()      \n",
    "print(np.sum(count))"
   ]
  },
  {
   "cell_type": "markdown",
   "id": "5cc3cb81",
   "metadata": {},
   "source": [
    "# 6 Class(ggg)"
   ]
  },
  {
   "cell_type": "code",
   "execution_count": 16,
   "id": "77d03f41",
   "metadata": {},
   "outputs": [
    {
     "name": "stdout",
     "output_type": "stream",
     "text": [
      "Total number:  [410 355  84 142 230 652]\n"
     ]
    },
    {
     "data": {
      "image/png": "[encoded data removed]",
      "text/plain": [
       "<Figure size 432x288 with 1 Axes>"
      ]
     },
     "metadata": {
      "needs_background": "light"
     },
     "output_type": "display_data"
    },
    {
     "name": "stdout",
     "output_type": "stream",
     "text": [
      "1873\n"
     ]
    }
   ],
   "source": [
    "labels_6 = []\n",
    "for i in range(len(tabular_data[\"prostatitis\"])):\n",
    "    # healthy => 0\n",
    "    if tabular_data[\"prostatitis\"][i]==0 and tabular_data[\"maglinant\"][i]==0 and tabular_data[\"ggg_s\"][i]==0:\n",
    "        labels_6.append(0)\n",
    "    # prostatitis => 1\n",
    "    if tabular_data[\"prostatitis\"][i]==1 and tabular_data[\"maglinant\"][i]==0 and tabular_data[\"ggg_s\"][i]==0:\n",
    "        labels_6.append(1)\n",
    "    # prostatitis+ggg1 => 2\n",
    "    if tabular_data[\"prostatitis\"][i]==1 and tabular_data[\"maglinant\"][i]==0 and tabular_data[\"ggg_s\"][i]==1:\n",
    "        labels_6.append(2)\n",
    "    # prostatitis+ggg>1 => 3\n",
    "    if tabular_data[\"prostatitis\"][i]==1 and tabular_data[\"maglinant\"][i]==1 and tabular_data[\"ggg_s\"][i]==2:\n",
    "        labels_6.append(3)\n",
    "    # ggg1 => 4\n",
    "    if tabular_data[\"prostatitis\"][i]==0 and tabular_data[\"maglinant\"][i]==0 and tabular_data[\"ggg_s\"][i]==1:\n",
    "        labels_6.append(4)\n",
    "    # ggg>1 => 5\n",
    "    if tabular_data[\"prostatitis\"][i]==0 and tabular_data[\"maglinant\"][i]==1 and tabular_data[\"ggg_s\"][i]==2:\n",
    "        labels_6.append(5)\n",
    "\n",
    "val, count = np.unique(labels_6, return_counts=True)\n",
    "print(\"Total number: \",count)\n",
    "plt.bar(val, count)\n",
    "plt.xticks(val)\n",
    "plt.show()      \n",
    "print(np.sum(count))"
   ]
  },
  {
   "cell_type": "code",
   "execution_count": 17,
   "id": "32a52dd8",
   "metadata": {},
   "outputs": [
    {
     "name": "stdout",
     "output_type": "stream",
     "text": [
      "   patient_id                                      npy_path     gs  \\\n",
      "0       16092  /cache/kevin/ds_dwi1500_npy/000000016092.npy   GS_6   \n",
      "1       27877  /cache/kevin/ds_dwi1500_npy/000000027877.npy  GS_7b   \n",
      "2       27766  /cache/kevin/ds_dwi1500_npy/000000027766.npy   GS_0   \n",
      "3       22792  /cache/kevin/ds_dwi1500_npy/000000022792.npy  GS_7a   \n",
      "4       10789  /cache/kevin/ds_dwi1500_npy/000000010789.npy   GS_9   \n",
      "\n",
      "                class  biopsy  maglinant  prostatitis  ggg  risk  ggg_s  \\\n",
      "0              cancer   False          0            0    1     1      1   \n",
      "1  cancer+prostatitis    True          1            1    3     2      2   \n",
      "2         prostatitis   False          0            1    0     0      0   \n",
      "3  cancer+prostatitis    True          1            1    2     2      2   \n",
      "4              cancer    True          1            0    5     3      2   \n",
      "\n",
      "   tumour  labels_12  labels_8  labels_6  \n",
      "0       1          7         5         4  \n",
      "1       1          4         3         3  \n",
      "2       0          1         1         1  \n",
      "3       1          3         3         3  \n",
      "4       1         11         7         5  \n"
     ]
    }
   ],
   "source": [
    "tabular_data[\"labels_12\"]=labels_12\n",
    "tabular_data[\"labels_8\"]=labels_8\n",
    "tabular_data[\"labels_6\"]=labels_6\n",
    "print(tabular_data.head())"
   ]
  },
  {
   "cell_type": "markdown",
   "id": "63e55abb",
   "metadata": {},
   "source": [
    "# Create New CSV"
   ]
  },
  {
   "cell_type": "code",
   "execution_count": 18,
   "id": "45a96d90",
   "metadata": {},
   "outputs": [
    {
     "name": "stdout",
     "output_type": "stream",
     "text": [
      "   patient_id                                      npy_path     gs  \\\n",
      "0       16092  /cache/kevin/ds_dwi1500_npy/000000016092.npy   GS_6   \n",
      "1       27877  /cache/kevin/ds_dwi1500_npy/000000027877.npy  GS_7b   \n",
      "2       27766  /cache/kevin/ds_dwi1500_npy/000000027766.npy   GS_0   \n",
      "3       22792  /cache/kevin/ds_dwi1500_npy/000000022792.npy  GS_7a   \n",
      "4       10789  /cache/kevin/ds_dwi1500_npy/000000010789.npy   GS_9   \n",
      "\n",
      "                class  biopsy  maglinant  prostatitis  ggg  risk  ggg_s  \\\n",
      "0              cancer   False          0            0    1     1      1   \n",
      "1  cancer+prostatitis    True          1            1    3     2      2   \n",
      "2         prostatitis   False          0            1    0     0      0   \n",
      "3  cancer+prostatitis    True          1            1    2     2      2   \n",
      "4              cancer    True          1            0    5     3      2   \n",
      "\n",
      "   tumour  labels_12  labels_8  labels_6  \n",
      "0       1          7         5         4  \n",
      "1       1          4         3         3  \n",
      "2       0          1         1         1  \n",
      "3       1          3         3         3  \n",
      "4       1         11         7         5  \n"
     ]
    }
   ],
   "source": [
    "new_csv = '/data/kevin/csv/csv_npy/multihead_ds_dwi1500_npy.csv'\n",
    "tabular_data.to_csv(new_csv, index=False)\n",
    "# load and comfirm \n",
    "df = pd.read_csv(new_csv)\n",
    "print(df.head())"
   ]
  },
  {
   "cell_type": "markdown",
   "id": "c6474b06",
   "metadata": {},
   "source": [
    "# Split Fold "
   ]
  },
  {
   "cell_type": "markdown",
   "id": "30c606bf",
   "metadata": {},
   "source": [
    "### Class 12"
   ]
  },
  {
   "cell_type": "code",
   "execution_count": 19,
   "id": "230ea349",
   "metadata": {},
   "outputs": [
    {
     "name": "stdout",
     "output_type": "stream",
     "text": [
      "   patient_id                                      npy_path     gs  \\\n",
      "0       16092  /cache/kevin/ds_dwi1500_npy/000000016092.npy   GS_6   \n",
      "1       27877  /cache/kevin/ds_dwi1500_npy/000000027877.npy  GS_7b   \n",
      "2       27766  /cache/kevin/ds_dwi1500_npy/000000027766.npy   GS_0   \n",
      "3       22792  /cache/kevin/ds_dwi1500_npy/000000022792.npy  GS_7a   \n",
      "4       10789  /cache/kevin/ds_dwi1500_npy/000000010789.npy   GS_9   \n",
      "\n",
      "                class  biopsy  maglinant  prostatitis  ggg  risk  ggg_s  \\\n",
      "0              cancer   False          0            0    1     1      1   \n",
      "1  cancer+prostatitis    True          1            1    3     2      2   \n",
      "2         prostatitis   False          0            1    0     0      0   \n",
      "3  cancer+prostatitis    True          1            1    2     2      2   \n",
      "4              cancer    True          1            0    5     3      2   \n",
      "\n",
      "   tumour  labels_12  labels_8  labels_6  fold_12  \n",
      "0       1          7         5         4        3  \n",
      "1       1          4         3         3       -1  \n",
      "2       0          1         1         1       -1  \n",
      "3       1          3         3         3        3  \n",
      "4       1         11         7         5        3  \n"
     ]
    }
   ],
   "source": [
    "utils.new_fold_col(new_csv, \"fold_12\", label_col=\"labels_12\")\n",
    "df = pd.read_csv(new_csv)\n",
    "print(df.head())"
   ]
  },
  {
   "cell_type": "markdown",
   "id": "e4138b99",
   "metadata": {},
   "source": [
    "### Class 8"
   ]
  },
  {
   "cell_type": "code",
   "execution_count": 20,
   "id": "0b8f040a",
   "metadata": {},
   "outputs": [
    {
     "name": "stdout",
     "output_type": "stream",
     "text": [
      "   patient_id                                      npy_path     gs  \\\n",
      "0       16092  /cache/kevin/ds_dwi1500_npy/000000016092.npy   GS_6   \n",
      "1       27877  /cache/kevin/ds_dwi1500_npy/000000027877.npy  GS_7b   \n",
      "2       27766  /cache/kevin/ds_dwi1500_npy/000000027766.npy   GS_0   \n",
      "3       22792  /cache/kevin/ds_dwi1500_npy/000000022792.npy  GS_7a   \n",
      "4       10789  /cache/kevin/ds_dwi1500_npy/000000010789.npy   GS_9   \n",
      "\n",
      "                class  biopsy  maglinant  prostatitis  ggg  risk  ggg_s  \\\n",
      "0              cancer   False          0            0    1     1      1   \n",
      "1  cancer+prostatitis    True          1            1    3     2      2   \n",
      "2         prostatitis   False          0            1    0     0      0   \n",
      "3  cancer+prostatitis    True          1            1    2     2      2   \n",
      "4              cancer    True          1            0    5     3      2   \n",
      "\n",
      "   tumour  labels_12  labels_8  labels_6  fold_12  fold_8  \n",
      "0       1          7         5         4        3       3  \n",
      "1       1          4         3         3       -1       1  \n",
      "2       0          1         1         1       -1       1  \n",
      "3       1          3         3         3        3       2  \n",
      "4       1         11         7         5        3       0  \n"
     ]
    }
   ],
   "source": [
    "utils.new_fold_col(new_csv, \"fold_8\", label_col=\"labels_8\")\n",
    "df = pd.read_csv(new_csv)\n",
    "print(df.head())"
   ]
  },
  {
   "cell_type": "markdown",
   "id": "f6232275",
   "metadata": {},
   "source": [
    "### Class 6"
   ]
  },
  {
   "cell_type": "code",
   "execution_count": 21,
   "id": "f1bfbf7a",
   "metadata": {},
   "outputs": [
    {
     "name": "stdout",
     "output_type": "stream",
     "text": [
      "   patient_id                                      npy_path     gs  \\\n",
      "0       16092  /cache/kevin/ds_dwi1500_npy/000000016092.npy   GS_6   \n",
      "1       27877  /cache/kevin/ds_dwi1500_npy/000000027877.npy  GS_7b   \n",
      "2       27766  /cache/kevin/ds_dwi1500_npy/000000027766.npy   GS_0   \n",
      "3       22792  /cache/kevin/ds_dwi1500_npy/000000022792.npy  GS_7a   \n",
      "4       10789  /cache/kevin/ds_dwi1500_npy/000000010789.npy   GS_9   \n",
      "\n",
      "                class  biopsy  maglinant  prostatitis  ggg  risk  ggg_s  \\\n",
      "0              cancer   False          0            0    1     1      1   \n",
      "1  cancer+prostatitis    True          1            1    3     2      2   \n",
      "2         prostatitis   False          0            1    0     0      0   \n",
      "3  cancer+prostatitis    True          1            1    2     2      2   \n",
      "4              cancer    True          1            0    5     3      2   \n",
      "\n",
      "   tumour  labels_12  labels_8  labels_6  fold_12  fold_8  fold_6  \n",
      "0       1          7         5         4        3       3       3  \n",
      "1       1          4         3         3       -1       1      -1  \n",
      "2       0          1         1         1       -1       1      -1  \n",
      "3       1          3         3         3        3       2      -1  \n",
      "4       1         11         7         5        3       0       3  \n"
     ]
    }
   ],
   "source": [
    "utils.new_fold_col(new_csv, \"fold_6\", label_col=\"labels_6\")\n",
    "df = pd.read_csv(new_csv)\n",
    "print(df.head())"
   ]
  },
  {
   "cell_type": "markdown",
   "id": "48ae252a",
   "metadata": {},
   "source": [
    "## 12-class fold"
   ]
  },
  {
   "cell_type": "code",
   "execution_count": 22,
   "id": "e6782631",
   "metadata": {},
   "outputs": [
    {
     "name": "stdout",
     "output_type": "stream",
     "text": [
      "Total number:  [375 375 375 374 374]\n"
     ]
    },
    {
     "data": {
      "image/png": "[encoded data removed]",
      "text/plain": [
       "<Figure size 432x288 with 1 Axes>"
      ]
     },
     "metadata": {
      "needs_background": "light"
     },
     "output_type": "display_data"
    },
    {
     "name": "stdout",
     "output_type": "stream",
     "text": [
      "1873\n"
     ]
    }
   ],
   "source": [
    "val, count = np.unique(df[\"fold_12\"], return_counts=True)\n",
    "print(\"Total number: \",count)\n",
    "plt.bar(val, count)\n",
    "plt.xticks(val)\n",
    "plt.show()      \n",
    "print(np.sum(count))"
   ]
  },
  {
   "cell_type": "markdown",
   "id": "e5d5d87e",
   "metadata": {},
   "source": [
    "## 8-class fold "
   ]
  },
  {
   "cell_type": "code",
   "execution_count": 23,
   "id": "c0b39c0c",
   "metadata": {
    "scrolled": true
   },
   "outputs": [
    {
     "name": "stdout",
     "output_type": "stream",
     "text": [
      "Total number:  [375 375 375 374 374]\n"
     ]
    },
    {
     "data": {
      "image/png": "[encoded data removed]",
      "text/plain": [
       "<Figure size 432x288 with 1 Axes>"
      ]
     },
     "metadata": {
      "needs_background": "light"
     },
     "output_type": "display_data"
    },
    {
     "name": "stdout",
     "output_type": "stream",
     "text": [
      "1873\n"
     ]
    }
   ],
   "source": [
    "val, count = np.unique(df[\"fold_8\"], return_counts=True)\n",
    "print(\"Total number: \",count)\n",
    "plt.bar(val, count)\n",
    "plt.xticks(val)\n",
    "plt.show()      \n",
    "print(np.sum(count))"
   ]
  },
  {
   "cell_type": "markdown",
   "id": "a134ab4f",
   "metadata": {},
   "source": [
    "## 6-Class fold"
   ]
  },
  {
   "cell_type": "code",
   "execution_count": 24,
   "id": "b0f1ea63",
   "metadata": {},
   "outputs": [
    {
     "name": "stdout",
     "output_type": "stream",
     "text": [
      "Total number:  [375 375 375 374 374]\n"
     ]
    },
    {
     "data": {
      "image/png": "[encoded data removed]",
      "text/plain": [
       "<Figure size 432x288 with 1 Axes>"
      ]
     },
     "metadata": {
      "needs_background": "light"
     },
     "output_type": "display_data"
    },
    {
     "name": "stdout",
     "output_type": "stream",
     "text": [
      "1873\n"
     ]
    }
   ],
   "source": [
    "val, count = np.unique(df[\"fold_6\"], return_counts=True)\n",
    "print(\"Total number: \",count)\n",
    "plt.bar(val, count)\n",
    "plt.xticks(val)\n",
    "plt.show()      \n",
    "print(np.sum(count))"
   ]
  },
  {
   "cell_type": "markdown",
   "id": "16737f86",
   "metadata": {},
   "source": [
    "# Sanity Check"
   ]
  },
  {
   "cell_type": "markdown",
   "id": "0c6c97e9",
   "metadata": {},
   "source": [
    "## 12 Class"
   ]
  },
  {
   "cell_type": "code",
   "execution_count": 25,
   "id": "f113cf58",
   "metadata": {},
   "outputs": [
    {
     "name": "stdout",
     "output_type": "stream",
     "text": [
      "Total number:  [246 213  50  48  21   8   9 138 166  87  47  90]\n"
     ]
    },
    {
     "data": {
      "image/png": "[encoded data removed]",
      "text/plain": [
       "<Figure size 432x288 with 1 Axes>"
      ]
     },
     "metadata": {
      "needs_background": "light"
     },
     "output_type": "display_data"
    },
    {
     "name": "stdout",
     "output_type": "stream",
     "text": [
      "1123\n"
     ]
    }
   ],
   "source": [
    "tabular_data = pd.read_csv(new_csv)\n",
    "ds_dict = utils.get_split_fold(tabular_data, label_col=\"labels_12\", fold_col=\"fold_12\", val_fold=0)\n",
    "val, count = np.unique(ds_dict['train_ds']['labels'], return_counts=True)\n",
    "print(\"Total number: \",count)\n",
    "plt.bar(val, count)\n",
    "plt.xticks(val)\n",
    "plt.show()      \n",
    "print(np.sum(count))"
   ]
  },
  {
   "cell_type": "code",
   "execution_count": 26,
   "id": "45eafa16",
   "metadata": {},
   "outputs": [
    {
     "name": "stdout",
     "output_type": "stream",
     "text": [
      "Total number:  [82 71 17 16  7  2  3 46 56 29 15 31]\n"
     ]
    },
    {
     "data": {
      "image/png": "[encoded data removed]",
      "text/plain": [
       "<Figure size 432x288 with 1 Axes>"
      ]
     },
     "metadata": {
      "needs_background": "light"
     },
     "output_type": "display_data"
    },
    {
     "name": "stdout",
     "output_type": "stream",
     "text": [
      "375\n"
     ]
    }
   ],
   "source": [
    "val, count = np.unique(ds_dict['val_ds']['labels'], return_counts=True)\n",
    "print(\"Total number: \",count)\n",
    "plt.bar(val, count)\n",
    "plt.xticks(val)\n",
    "plt.show()      \n",
    "print(np.sum(count))"
   ]
  },
  {
   "cell_type": "markdown",
   "id": "7babc925",
   "metadata": {},
   "source": [
    "## 8 Class"
   ]
  },
  {
   "cell_type": "code",
   "execution_count": 27,
   "id": "989b2eed",
   "metadata": {},
   "outputs": [
    {
     "name": "stdout",
     "output_type": "stream",
     "text": [
      "Total number:  [246 213  50  69  17 138 253 137]\n"
     ]
    },
    {
     "data": {
      "image/png": "[encoded data removed]",
      "text/plain": [
       "<Figure size 432x288 with 1 Axes>"
      ]
     },
     "metadata": {
      "needs_background": "light"
     },
     "output_type": "display_data"
    },
    {
     "name": "stdout",
     "output_type": "stream",
     "text": [
      "1123\n"
     ]
    }
   ],
   "source": [
    "tabular_data = pd.read_csv(new_csv)\n",
    "ds_dict = utils.get_split_fold(tabular_data, label_col=\"labels_8\", fold_col=\"fold_8\", val_fold=0)\n",
    "val, count = np.unique(ds_dict['train_ds']['labels'], return_counts=True)\n",
    "print(\"Total number: \",count)\n",
    "plt.bar(val, count)\n",
    "plt.xticks(val)\n",
    "plt.show()      \n",
    "print(np.sum(count))"
   ]
  },
  {
   "cell_type": "code",
   "execution_count": 28,
   "id": "856dc378",
   "metadata": {},
   "outputs": [
    {
     "name": "stdout",
     "output_type": "stream",
     "text": [
      "Total number:  [82 71 17 23  5 46 85 46]\n"
     ]
    },
    {
     "data": {
      "image/png": "[encoded data removed]",
      "text/plain": [
       "<Figure size 432x288 with 1 Axes>"
      ]
     },
     "metadata": {
      "needs_background": "light"
     },
     "output_type": "display_data"
    },
    {
     "name": "stdout",
     "output_type": "stream",
     "text": [
      "375\n"
     ]
    }
   ],
   "source": [
    "val, count = np.unique(ds_dict['val_ds']['labels'], return_counts=True)\n",
    "print(\"Total number: \",count)\n",
    "plt.bar(val, count)\n",
    "plt.xticks(val)\n",
    "plt.show()      \n",
    "print(np.sum(count))"
   ]
  },
  {
   "cell_type": "markdown",
   "id": "06deda3e",
   "metadata": {},
   "source": [
    "## 6 Class"
   ]
  },
  {
   "cell_type": "code",
   "execution_count": 29,
   "id": "81a17f5a",
   "metadata": {},
   "outputs": [
    {
     "name": "stdout",
     "output_type": "stream",
     "text": [
      "Total number:  [246 213  50  84 138 392]\n"
     ]
    },
    {
     "data": {
      "image/png": "[encoded data removed]",
      "text/plain": [
       "<Figure size 432x288 with 1 Axes>"
      ]
     },
     "metadata": {
      "needs_background": "light"
     },
     "output_type": "display_data"
    },
    {
     "name": "stdout",
     "output_type": "stream",
     "text": [
      "1123\n"
     ]
    }
   ],
   "source": [
    "tabular_data = pd.read_csv(new_csv)\n",
    "ds_dict = utils.get_split_fold(tabular_data, label_col=\"labels_6\", fold_col=\"fold_6\", val_fold=0)\n",
    "val, count = np.unique(ds_dict['train_ds']['labels'], return_counts=True)\n",
    "print(\"Total number: \",count)\n",
    "plt.bar(val, count)\n",
    "plt.xticks(val)\n",
    "plt.show()      \n",
    "print(np.sum(count))"
   ]
  },
  {
   "cell_type": "code",
   "execution_count": 30,
   "id": "ba81ceb3",
   "metadata": {},
   "outputs": [
    {
     "name": "stdout",
     "output_type": "stream",
     "text": [
      "Total number:  [ 82  71  17  29  46 130]\n"
     ]
    },
    {
     "data": {
      "image/png": "[encoded data removed]",
      "text/plain": [
       "<Figure size 432x288 with 1 Axes>"
      ]
     },
     "metadata": {
      "needs_background": "light"
     },
     "output_type": "display_data"
    },
    {
     "name": "stdout",
     "output_type": "stream",
     "text": [
      "375\n"
     ]
    }
   ],
   "source": [
    "val, count = np.unique(ds_dict['val_ds']['labels'], return_counts=True)\n",
    "print(\"Total number: \",count)\n",
    "plt.bar(val, count)\n",
    "plt.xticks(val)\n",
    "plt.show()      \n",
    "print(np.sum(count))"
   ]
  }
 ],
 "metadata": {
  "kernelspec": {
   "display_name": "Python 3",
   "language": "python",
   "name": "python3"
  },
  "language_info": {
   "codemirror_mode": {
    "name": "ipython",
    "version": 3
   },
   "file_extension": ".py",
   "mimetype": "text/x-python",
   "name": "python",
   "nbconvert_exporter": "python",
   "pygments_lexer": "ipython3",
   "version": "3.6.9"
  }
 },
 "nbformat": 4,
 "nbformat_minor": 5
}
